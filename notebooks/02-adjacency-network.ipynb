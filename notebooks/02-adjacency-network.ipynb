{
 "cells": [
  {
   "cell_type": "markdown",
   "source": [
    "# Infer the Adjacency Matrix of a Graph\n",
    "\n",
    "We train a Neural Network to make it learn the Adjacency Matrix of a Graph.\n",
    "The Graph is a simulation of Water Management System.\n",
    "Each node is a water pump and the edges are the pipes.\n",
    "NET0 is a 10-nodes network.\n",
    "NET1 is a 40-nodes network.\n",
    "\n",
    "The Neural Network is fed with:\n",
    "- Pressure\n",
    "- Flow\n",
    "- Base Demand\n",
    "- Demand Value\n",
    "\n",
    "The aim is to predict one of them using the others, without topological information."
   ],
   "metadata": {
    "collapsed": false
   },
   "id": "80a8b400ea6fe89"
  },
  {
   "metadata": {},
   "cell_type": "code",
   "outputs": [],
   "execution_count": null,
   "source": "",
   "id": "3896efb4e0371dad"
  }
 ],
 "metadata": {
  "kernelspec": {
   "display_name": "Python 3",
   "language": "python",
   "name": "python3"
  },
  "language_info": {
   "codemirror_mode": {
    "name": "ipython",
    "version": 2
   },
   "file_extension": ".py",
   "mimetype": "text/x-python",
   "name": "python",
   "nbconvert_exporter": "python",
   "pygments_lexer": "ipython2",
   "version": "2.7.6"
  }
 },
 "nbformat": 4,
 "nbformat_minor": 5
}
